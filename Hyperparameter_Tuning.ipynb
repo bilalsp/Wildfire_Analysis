{
 "cells": [
  {
   "cell_type": "markdown",
   "metadata": {},
   "source": [
    "## <HR>CatBoost - Hyperparameter Tuning<HR>"
   ]
  },
  {
   "cell_type": "markdown",
   "metadata": {},
   "source": [
    "### Import Required Packages"
   ]
  },
  {
   "cell_type": "code",
   "execution_count": 104,
   "metadata": {},
   "outputs": [],
   "source": [
    "import matplotlib.pyplot as plt\n",
    "from sklearn.metrics import plot_confusion_matrix\n",
    "from sklearn.metrics import roc_auc_score\n",
    "from sklearn.metrics import roc_curve"
   ]
  },
  {
   "cell_type": "code",
   "execution_count": 105,
   "metadata": {},
   "outputs": [],
   "source": [
    "DATA_PATH = '/kaggle/input/final-upload/'"
   ]
  },
  {
   "cell_type": "code",
   "execution_count": 106,
   "metadata": {},
   "outputs": [],
   "source": [
    "env_features = pd.read_csv(DATA_PATH+'env_features.csv', parse_dates=['date'])\n",
    "geo_features = pd.read_csv(DATA_PATH+'geo_features_without_event_count.csv', parse_dates=['date'])\n",
    "features = pd.merge(env_features, geo_features, on=['fire_id','date','fire_type','fire_type_name'])\n",
    "features.rename({'longitude_x':'longitude','latitude_x':'latitude'}, inplace=True, axis=1)"
   ]
  },
  {
   "cell_type": "code",
   "execution_count": 107,
   "metadata": {},
   "outputs": [],
   "source": [
    "drop_features = ['date','fire_type_name','fire_type_name_en'] + \\\n",
    "                ['fire_id','fire_type']"
   ]
  },
  {
   "cell_type": "code",
   "execution_count": 108,
   "metadata": {},
   "outputs": [],
   "source": [
    "X,y = features.drop(drop_features, axis=1), features.fire_type\n",
    "X_train, X_test, y_train, y_test = train_test_split(X, y, test_size=0.1, shuffle=False, random_state=2020)\n",
    "X_train, X_val, y_train, y_val = train_test_split(X_train, y_train, test_size=0.125, shuffle=False, random_state=2020)"
   ]
  },
  {
   "cell_type": "code",
   "execution_count": 109,
   "metadata": {},
   "outputs": [
    {
     "data": {
      "text/plain": [
       "((137710, 217), (19673, 217), (17488, 217))"
      ]
     },
     "execution_count": 109,
     "metadata": {},
     "output_type": "execute_result"
    }
   ],
   "source": [
    "X_train.shape, X_val.shape, X_test.shape, "
   ]
  },
  {
   "cell_type": "code",
   "execution_count": 110,
   "metadata": {},
   "outputs": [],
   "source": [
    "def get_roc_auc(y_true, y_prob):\n",
    "    n_classes = 11\n",
    "    one_hot_y_true = np.zeros((y_true.size, n_classes))\n",
    "    one_hot_y_true[np.arange(y_true.size),y_true-1] = 1\n",
    "    fpr, tpr = {}, {}\n",
    "    roc_auc = {'roc_auc_micro': roc_auc_score(one_hot_y_true, y_prob, average='micro', multi_class=\"ovr\")}\n",
    "    for i in range(n_classes):\n",
    "        if one_hot_y_true[:,i].sum():\n",
    "            roc_auc[i] = roc_auc_score(one_hot_y_true[:,i], y_prob[:,i], multi_class=\"ovr\")\n",
    "            fpr[i], tpr[i], _ = roc_curve(one_hot_y_true[:,i], y_prob[:,i])\n",
    "        else:\n",
    "            roc_auc[i] = 0.0\n",
    "    return roc_auc, fpr, tpr"
   ]
  },
  {
   "cell_type": "markdown",
   "metadata": {},
   "source": [
    "### Part-1 Hyperparameter Tuning"
   ]
  },
  {
   "cell_type": "code",
   "execution_count": 111,
   "metadata": {},
   "outputs": [],
   "source": [
    "clf_1 = CatBoostClassifier(iterations=1000, loss_function='MultiClass',verbose=200, random_state=2020, task_type=\"GPU\")"
   ]
  },
  {
   "cell_type": "code",
   "execution_count": 112,
   "metadata": {},
   "outputs": [
    {
     "name": "stdout",
     "output_type": "stream",
     "text": [
      "Learning rate set to 0.172929\n",
      "0:\tlearn: 1.9958096\ttest: 2.0524912\tbest: 2.0524912 (0)\ttotal: 26ms\tremaining: 25.9s\n",
      "200:\tlearn: 0.9333750\ttest: 1.3651797\tbest: 1.3651797 (200)\ttotal: 4.35s\tremaining: 17.3s\n",
      "400:\tlearn: 0.8495138\ttest: 1.3694879\tbest: 1.3624039 (358)\ttotal: 8.35s\tremaining: 12.5s\n",
      "600:\tlearn: 0.7902835\ttest: 1.3832106\tbest: 1.3624039 (358)\ttotal: 13.3s\tremaining: 8.82s\n",
      "800:\tlearn: 0.7457820\ttest: 1.3891897\tbest: 1.3624039 (358)\ttotal: 18s\tremaining: 4.48s\n",
      "999:\tlearn: 0.7102187\ttest: 1.4016840\tbest: 1.3624039 (358)\ttotal: 22.1s\tremaining: 0us\n",
      "bestTest = 1.362403917\n",
      "bestIteration = 358\n",
      "Shrink model to first 359 iterations.\n"
     ]
    },
    {
     "data": {
      "text/plain": [
       "<catboost.core.CatBoostClassifier at 0x7efe7326ea50>"
      ]
     },
     "execution_count": 112,
     "metadata": {},
     "output_type": "execute_result"
    }
   ],
   "source": [
    "clf_1.fit(X_train, y_train, eval_set=(X_val, y_val))"
   ]
  },
  {
   "cell_type": "code",
   "execution_count": 113,
   "metadata": {},
   "outputs": [
    {
     "data": {
      "text/html": [
       "<div>\n",
       "<style scoped>\n",
       "    .dataframe tbody tr th:only-of-type {\n",
       "        vertical-align: middle;\n",
       "    }\n",
       "\n",
       "    .dataframe tbody tr th {\n",
       "        vertical-align: top;\n",
       "    }\n",
       "\n",
       "    .dataframe thead th {\n",
       "        text-align: right;\n",
       "    }\n",
       "</style>\n",
       "<table border=\"1\" class=\"dataframe\">\n",
       "  <thead>\n",
       "    <tr style=\"text-align: right;\">\n",
       "      <th></th>\n",
       "      <th>train-set</th>\n",
       "      <th>val-set</th>\n",
       "      <th>test-set</th>\n",
       "    </tr>\n",
       "  </thead>\n",
       "  <tbody>\n",
       "    <tr>\n",
       "      <th>roc_auc_micro</th>\n",
       "      <td>0.963917</td>\n",
       "      <td>0.905800</td>\n",
       "      <td>0.898534</td>\n",
       "    </tr>\n",
       "    <tr>\n",
       "      <th>roc_auc_fire_type_1</th>\n",
       "      <td>0.991565</td>\n",
       "      <td>0.945089</td>\n",
       "      <td>0.955170</td>\n",
       "    </tr>\n",
       "    <tr>\n",
       "      <th>roc_auc_fire_type_2</th>\n",
       "      <td>0.965493</td>\n",
       "      <td>0.707311</td>\n",
       "      <td>0.759817</td>\n",
       "    </tr>\n",
       "    <tr>\n",
       "      <th>roc_auc_fire_type_3</th>\n",
       "      <td>0.931656</td>\n",
       "      <td>0.820181</td>\n",
       "      <td>0.835392</td>\n",
       "    </tr>\n",
       "    <tr>\n",
       "      <th>roc_auc_fire_type_4</th>\n",
       "      <td>0.970005</td>\n",
       "      <td>0.952607</td>\n",
       "      <td>0.935064</td>\n",
       "    </tr>\n",
       "    <tr>\n",
       "      <th>roc_auc_fire_type_5</th>\n",
       "      <td>0.942605</td>\n",
       "      <td>0.826018</td>\n",
       "      <td>0.785085</td>\n",
       "    </tr>\n",
       "    <tr>\n",
       "      <th>roc_auc_fire_type_6</th>\n",
       "      <td>0.942580</td>\n",
       "      <td>0.870692</td>\n",
       "      <td>0.871760</td>\n",
       "    </tr>\n",
       "    <tr>\n",
       "      <th>roc_auc_fire_type_7</th>\n",
       "      <td>0.999866</td>\n",
       "      <td>0.000000</td>\n",
       "      <td>0.000000</td>\n",
       "    </tr>\n",
       "    <tr>\n",
       "      <th>roc_auc_fire_type_8</th>\n",
       "      <td>0.968092</td>\n",
       "      <td>0.914678</td>\n",
       "      <td>0.870703</td>\n",
       "    </tr>\n",
       "    <tr>\n",
       "      <th>roc_auc_fire_type_9</th>\n",
       "      <td>0.926463</td>\n",
       "      <td>0.830026</td>\n",
       "      <td>0.801574</td>\n",
       "    </tr>\n",
       "    <tr>\n",
       "      <th>roc_auc_fire_type_10</th>\n",
       "      <td>0.948594</td>\n",
       "      <td>0.726910</td>\n",
       "      <td>0.714504</td>\n",
       "    </tr>\n",
       "    <tr>\n",
       "      <th>roc_auc_fire_type_11</th>\n",
       "      <td>0.865145</td>\n",
       "      <td>0.841577</td>\n",
       "      <td>0.803091</td>\n",
       "    </tr>\n",
       "  </tbody>\n",
       "</table>\n",
       "</div>"
      ],
      "text/plain": [
       "                      train-set   val-set  test-set\n",
       "roc_auc_micro          0.963917  0.905800  0.898534\n",
       "roc_auc_fire_type_1    0.991565  0.945089  0.955170\n",
       "roc_auc_fire_type_2    0.965493  0.707311  0.759817\n",
       "roc_auc_fire_type_3    0.931656  0.820181  0.835392\n",
       "roc_auc_fire_type_4    0.970005  0.952607  0.935064\n",
       "roc_auc_fire_type_5    0.942605  0.826018  0.785085\n",
       "roc_auc_fire_type_6    0.942580  0.870692  0.871760\n",
       "roc_auc_fire_type_7    0.999866  0.000000  0.000000\n",
       "roc_auc_fire_type_8    0.968092  0.914678  0.870703\n",
       "roc_auc_fire_type_9    0.926463  0.830026  0.801574\n",
       "roc_auc_fire_type_10   0.948594  0.726910  0.714504\n",
       "roc_auc_fire_type_11   0.865145  0.841577  0.803091"
      ]
     },
     "execution_count": 113,
     "metadata": {},
     "output_type": "execute_result"
    }
   ],
   "source": [
    "n_classes = 11\n",
    "roc_auc1 = get_roc_auc(y_train, clf_1.predict_proba(X_train))\n",
    "roc_auc2 = get_roc_auc(y_val, clf_1.predict_proba(X_val))\n",
    "roc_auc3 = get_roc_auc(y_test, clf_1.predict_proba(X_test))\n",
    "\n",
    "columns_name = ['roc_auc_micro'] + ['roc_auc_fire_type_{0}'.format(i+1) for i in range(n_classes)]\n",
    "pd.DataFrame([roc_auc1[0].values(),roc_auc2[0].values(),roc_auc3[0].values()], \n",
    "                 columns=columns_name, index=['train-set','val-set','test-set']).T"
   ]
  },
  {
   "cell_type": "code",
   "execution_count": 114,
   "metadata": {},
   "outputs": [],
   "source": [
    "res = list(zip(clf_1.feature_names_, clf_1.feature_importances_))\n",
    "res.sort(key=lambda x:x[1], reverse=True)"
   ]
  },
  {
   "cell_type": "code",
   "execution_count": 116,
   "metadata": {},
   "outputs": [
    {
     "data": {
      "text/plain": [
       "[('num_cities_radius_10', 9.6663445287508),\n",
       " ('latitude', 6.377285563311372),\n",
       " ('district', 5.752218186757519),\n",
       " ('num_cities_radius_15', 5.343896224049576),\n",
       " ('longitude', 5.343653614152017),\n",
       " ('federal_subject', 4.846172675559235),\n",
       " ('weekofyear', 3.6913386668766273),\n",
       " ('latitude_y', 2.6451742856514975),\n",
       " ('num_cities_radius_5', 2.359616076705515),\n",
       " ('rhum_1w', 2.222251621821489),\n",
       " ('nature_forest_dst', 2.1992730378657863),\n",
       " ('city_dst', 2.0750689160210336),\n",
       " ('longitude_y', 2.039849727046975),\n",
       " ('field_dst', 1.7603709334785953),\n",
       " ('population', 1.74224500747662)]"
      ]
     },
     "execution_count": 116,
     "metadata": {},
     "output_type": "execute_result"
    }
   ],
   "source": [
    "#Top 15 features\n",
    "res[:15]"
   ]
  },
  {
   "cell_type": "markdown",
   "metadata": {},
   "source": [
    "### Part-2 Hyperparameter Tuning"
   ]
  },
  {
   "cell_type": "code",
   "execution_count": 117,
   "metadata": {},
   "outputs": [],
   "source": [
    "drop_features = ['date','fire_type_name','fire_type_name_en'] + \\\n",
    "                 ['fire_id','fire_type', 'day'] + [col[0] for col in res[-5:]]\n",
    "\n",
    "X,y = features.drop(drop_features, axis=1), features.fire_type\n",
    "X_train, X_test, y_train, y_test = train_test_split(X, y, test_size=0.1, shuffle=False, random_state=2020)\n",
    "X_train, X_val, y_train, y_val = train_test_split(X_train, y_train, test_size=0.125, shuffle=False, random_state=2020)"
   ]
  },
  {
   "cell_type": "code",
   "execution_count": 118,
   "metadata": {},
   "outputs": [
    {
     "data": {
      "text/plain": [
       "(187, 177)"
      ]
     },
     "execution_count": 118,
     "metadata": {},
     "output_type": "execute_result"
    }
   ],
   "source": [
    "#set golden features for catboost model\n",
    "golden_features = ['177:border_count=1024', '187:border_count=1024']\n",
    "list(X_train.columns).index('population'), list(X_train.columns).index('weekofyear')"
   ]
  },
  {
   "cell_type": "code",
   "execution_count": 119,
   "metadata": {},
   "outputs": [],
   "source": [
    "clf_2 = CatBoostClassifier(iterations=6000, use_best_model=True, eval_metric='MultiClass',\n",
    "                         od_type = 'IncToDec', l2_leaf_reg=5, \n",
    "                         per_float_feature_quantization = golden_features, \n",
    "                         loss_function='MultiClass',verbose=500, random_state=2020, \n",
    "                         task_type=\"GPU\")"
   ]
  },
  {
   "cell_type": "code",
   "execution_count": 120,
   "metadata": {},
   "outputs": [
    {
     "name": "stdout",
     "output_type": "stream",
     "text": [
      "0:\tlearn: 2.3231667\ttest: 2.3324828\tbest: 2.3324828 (0)\ttotal: 26.3ms\tremaining: 2m 37s\n",
      "500:\tlearn: 1.0327174\ttest: 1.4330398\tbest: 1.4318100 (275)\ttotal: 11.1s\tremaining: 2m 1s\n",
      "1000:\tlearn: 0.9555412\ttest: 1.4057537\tbest: 1.4057537 (1000)\ttotal: 21.9s\tremaining: 1m 49s\n",
      "1500:\tlearn: 0.9088863\ttest: 1.3927797\tbest: 1.3924470 (1486)\ttotal: 32.5s\tremaining: 1m 37s\n",
      "2000:\tlearn: 0.8747613\ttest: 1.3941936\tbest: 1.3901883 (1761)\ttotal: 44.6s\tremaining: 1m 29s\n",
      "2500:\tlearn: 0.8471674\ttest: 1.3913012\tbest: 1.3884134 (2316)\ttotal: 55.2s\tremaining: 1m 17s\n",
      "3000:\tlearn: 0.8229938\ttest: 1.3868652\tbest: 1.3858325 (2820)\ttotal: 1m 5s\tremaining: 1m 5s\n",
      "3500:\tlearn: 0.8019535\ttest: 1.3884618\tbest: 1.3858325 (2820)\ttotal: 1m 16s\tremaining: 54.5s\n",
      "4000:\tlearn: 0.7821892\ttest: 1.3873641\tbest: 1.3858325 (2820)\ttotal: 1m 26s\tremaining: 43.4s\n",
      "4500:\tlearn: 0.7641330\ttest: 1.3902104\tbest: 1.3858325 (2820)\ttotal: 1m 38s\tremaining: 32.8s\n",
      "5000:\tlearn: 0.7478714\ttest: 1.3895331\tbest: 1.3858325 (2820)\ttotal: 1m 49s\tremaining: 21.9s\n",
      "5500:\tlearn: 0.7322822\ttest: 1.3993543\tbest: 1.3858325 (2820)\ttotal: 2m\tremaining: 10.9s\n",
      "5999:\tlearn: 0.7180639\ttest: 1.4044938\tbest: 1.3858325 (2820)\ttotal: 2m 10s\tremaining: 0us\n",
      "bestTest = 1.385832482\n",
      "bestIteration = 2820\n",
      "Shrink model to first 2821 iterations.\n"
     ]
    },
    {
     "data": {
      "text/plain": [
       "<catboost.core.CatBoostClassifier at 0x7efe762a3e90>"
      ]
     },
     "execution_count": 120,
     "metadata": {},
     "output_type": "execute_result"
    }
   ],
   "source": [
    "clf_2.fit(X_train, y_train, eval_set=(X_val, y_val))"
   ]
  },
  {
   "cell_type": "code",
   "execution_count": 121,
   "metadata": {},
   "outputs": [
    {
     "data": {
      "text/html": [
       "<div>\n",
       "<style scoped>\n",
       "    .dataframe tbody tr th:only-of-type {\n",
       "        vertical-align: middle;\n",
       "    }\n",
       "\n",
       "    .dataframe tbody tr th {\n",
       "        vertical-align: top;\n",
       "    }\n",
       "\n",
       "    .dataframe thead th {\n",
       "        text-align: right;\n",
       "    }\n",
       "</style>\n",
       "<table border=\"1\" class=\"dataframe\">\n",
       "  <thead>\n",
       "    <tr style=\"text-align: right;\">\n",
       "      <th></th>\n",
       "      <th>train-set</th>\n",
       "      <th>val-set</th>\n",
       "      <th>test-set</th>\n",
       "    </tr>\n",
       "  </thead>\n",
       "  <tbody>\n",
       "    <tr>\n",
       "      <th>roc_auc_micro</th>\n",
       "      <td>0.966993</td>\n",
       "      <td>0.902515</td>\n",
       "      <td>0.915871</td>\n",
       "    </tr>\n",
       "    <tr>\n",
       "      <th>roc_auc_fire_type_1</th>\n",
       "      <td>0.993008</td>\n",
       "      <td>0.943790</td>\n",
       "      <td>0.951037</td>\n",
       "    </tr>\n",
       "    <tr>\n",
       "      <th>roc_auc_fire_type_2</th>\n",
       "      <td>0.970422</td>\n",
       "      <td>0.703352</td>\n",
       "      <td>0.758444</td>\n",
       "    </tr>\n",
       "    <tr>\n",
       "      <th>roc_auc_fire_type_3</th>\n",
       "      <td>0.938675</td>\n",
       "      <td>0.836075</td>\n",
       "      <td>0.810555</td>\n",
       "    </tr>\n",
       "    <tr>\n",
       "      <th>roc_auc_fire_type_4</th>\n",
       "      <td>0.973151</td>\n",
       "      <td>0.948142</td>\n",
       "      <td>0.941603</td>\n",
       "    </tr>\n",
       "    <tr>\n",
       "      <th>roc_auc_fire_type_5</th>\n",
       "      <td>0.950698</td>\n",
       "      <td>0.809844</td>\n",
       "      <td>0.770216</td>\n",
       "    </tr>\n",
       "    <tr>\n",
       "      <th>roc_auc_fire_type_6</th>\n",
       "      <td>0.947462</td>\n",
       "      <td>0.872507</td>\n",
       "      <td>0.870064</td>\n",
       "    </tr>\n",
       "    <tr>\n",
       "      <th>roc_auc_fire_type_7</th>\n",
       "      <td>0.999843</td>\n",
       "      <td>0.000000</td>\n",
       "      <td>0.000000</td>\n",
       "    </tr>\n",
       "    <tr>\n",
       "      <th>roc_auc_fire_type_8</th>\n",
       "      <td>0.970901</td>\n",
       "      <td>0.922775</td>\n",
       "      <td>0.860657</td>\n",
       "    </tr>\n",
       "    <tr>\n",
       "      <th>roc_auc_fire_type_9</th>\n",
       "      <td>0.933170</td>\n",
       "      <td>0.833135</td>\n",
       "      <td>0.803520</td>\n",
       "    </tr>\n",
       "    <tr>\n",
       "      <th>roc_auc_fire_type_10</th>\n",
       "      <td>0.954085</td>\n",
       "      <td>0.723054</td>\n",
       "      <td>0.720824</td>\n",
       "    </tr>\n",
       "    <tr>\n",
       "      <th>roc_auc_fire_type_11</th>\n",
       "      <td>0.874201</td>\n",
       "      <td>0.850692</td>\n",
       "      <td>0.804721</td>\n",
       "    </tr>\n",
       "  </tbody>\n",
       "</table>\n",
       "</div>"
      ],
      "text/plain": [
       "                      train-set   val-set  test-set\n",
       "roc_auc_micro          0.966993  0.902515  0.915871\n",
       "roc_auc_fire_type_1    0.993008  0.943790  0.951037\n",
       "roc_auc_fire_type_2    0.970422  0.703352  0.758444\n",
       "roc_auc_fire_type_3    0.938675  0.836075  0.810555\n",
       "roc_auc_fire_type_4    0.973151  0.948142  0.941603\n",
       "roc_auc_fire_type_5    0.950698  0.809844  0.770216\n",
       "roc_auc_fire_type_6    0.947462  0.872507  0.870064\n",
       "roc_auc_fire_type_7    0.999843  0.000000  0.000000\n",
       "roc_auc_fire_type_8    0.970901  0.922775  0.860657\n",
       "roc_auc_fire_type_9    0.933170  0.833135  0.803520\n",
       "roc_auc_fire_type_10   0.954085  0.723054  0.720824\n",
       "roc_auc_fire_type_11   0.874201  0.850692  0.804721"
      ]
     },
     "execution_count": 121,
     "metadata": {},
     "output_type": "execute_result"
    }
   ],
   "source": [
    "n_classes = 11\n",
    "roc_auc1 = get_roc_auc(y_train, clf_2.predict_proba(X_train))\n",
    "roc_auc2 = get_roc_auc(y_val, clf_2.predict_proba(X_val))\n",
    "roc_auc3 = get_roc_auc(y_test, clf_2.predict_proba(X_test))\n",
    "\n",
    "columns_name = ['roc_auc_micro'] + ['roc_auc_fire_type_{0}'.format(i+1) for i in range(n_classes)]\n",
    "pd.DataFrame([roc_auc1[0].values(),roc_auc2[0].values(),roc_auc3[0].values()], \n",
    "                 columns=columns_name, index=['train-set','val-set','test-set']).T"
   ]
  },
  {
   "cell_type": "markdown",
   "metadata": {},
   "source": [
    "#### NOTE: model performance on test-set has improved.."
   ]
  },
  {
   "cell_type": "code",
   "execution_count": 122,
   "metadata": {},
   "outputs": [],
   "source": [
    "res = list(zip(clf.feature_names_, clf.feature_importances_))\n",
    "res.sort(key=lambda x:x[1], reverse=True)"
   ]
  },
  {
   "cell_type": "code",
   "execution_count": 123,
   "metadata": {},
   "outputs": [
    {
     "data": {
      "text/plain": [
       "[('num_cities_radius_15', 8.934596212171213),\n",
       " ('num_cities_radius_10', 5.52296684714963),\n",
       " ('federal_subject', 5.057482937923906),\n",
       " ('latitude', 5.048828128634322),\n",
       " ('district', 4.97617859090011),\n",
       " ('longitude', 4.1920675710475805),\n",
       " ('num_cities_radius_5', 3.196224645929514),\n",
       " ('weekofyear', 3.1494860877373494),\n",
       " ('latitude_y', 2.981973090240233),\n",
       " ('longitude_y', 2.3957993150057293),\n",
       " ('city_dst', 2.344293651671195),\n",
       " ('nature_forest_dst', 2.275533357062124),\n",
       " ('population', 2.0872948304467402),\n",
       " ('field_dst', 1.9270096486712753),\n",
       " ('rhum_2w', 1.615335906163404),\n",
       " ('forest_dst', 1.3982664627088222),\n",
       " ('rhum_1w', 1.3308413790306044),\n",
       " ('rhum_3w', 1.2345697498405572),\n",
       " ('num_forest_radius_1.0', 1.1538416467467187),\n",
       " ('is_spring', 1.0370118314616452)]"
      ]
     },
     "execution_count": 123,
     "metadata": {},
     "output_type": "execute_result"
    }
   ],
   "source": [
    "#top 20 features\n",
    "res[:20]"
   ]
  },
  {
   "cell_type": "code",
   "execution_count": null,
   "metadata": {},
   "outputs": [],
   "source": []
  },
  {
   "cell_type": "code",
   "execution_count": null,
   "metadata": {},
   "outputs": [],
   "source": []
  }
 ],
 "metadata": {
  "kernelspec": {
   "display_name": "Python 3",
   "language": "python",
   "name": "python3"
  },
  "language_info": {
   "codemirror_mode": {
    "name": "ipython",
    "version": 3
   },
   "file_extension": ".py",
   "mimetype": "text/x-python",
   "name": "python",
   "nbconvert_exporter": "python",
   "pygments_lexer": "ipython3",
   "version": "3.7.6"
  }
 },
 "nbformat": 4,
 "nbformat_minor": 4
}
